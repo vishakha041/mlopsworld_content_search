{
 "cells": [
  {
   "cell_type": "code",
   "execution_count": 1,
   "id": "9ee266f0",
   "metadata": {},
   "outputs": [
    {
     "name": "stdout",
     "output_type": "stream",
     "text": [
      "✅ All tools imported successfully!\n",
      "🔑 ApertureDB Key configured: Yes\n"
     ]
    }
   ],
   "source": [
    "\n",
    "# Import required libraries and tools\n",
    "import os\n",
    "import sys\n",
    "import json\n",
    "from pprint import pprint\n",
    "\n",
    "# Load environment variables\n",
    "from dotenv import load_dotenv\n",
    "load_dotenv()\n",
    "\n",
    "# Add tools directory to path\n",
    "sys.path.append('.')\n",
    "\n",
    "# Import all our tools\n",
    "from search_talks_by_filters import search_talks_by_filters\n",
    "from search_talks_semantically import search_talks_semantically\n",
    "from analyze_speaker_activity import analyze_speaker_activity\n",
    "from get_talk_details import get_talk_details\n",
    "from find_similar_content import find_similar_content\n",
    "from analyze_topics_and_trends import analyze_topics_and_trends\n",
    "\n",
    "print(\"✅ All tools imported successfully!\")\n",
    "print(f\"🔑 ApertureDB Key configured: {'Yes' if os.getenv('APERTUREDB_KEY') else 'No'}\")\n",
    "\n",
    "# Helper function for pretty printing results\n",
    "def print_results(result, max_results=5):\n",
    "    \"\"\"Pretty print tool results with truncation\"\"\"\n",
    "    if isinstance(result, dict) and 'results' in result:\n",
    "        print(f\"Total found: {result.get('total_found', 'Unknown')}\")\n",
    "        if result.get('query_summary'):\n",
    "            print(f\"Query: {result['query_summary']}\")\n",
    "        if result.get('sort_info'):\n",
    "            print(f\"Sorting: {result['sort_info']}\")\n",
    "        \n",
    "        results = result['results'][:max_results]\n",
    "        for i, talk in enumerate(results, 1):\n",
    "            print(f\"\\n{i}. {talk.get('title', 'No Title')}\")\n",
    "            print(f\"   Speaker: {talk.get('speaker', 'Unknown')}\")\n",
    "            print(f\"   Company: {talk.get('company', 'Unknown')}\")\n",
    "            print(f\"   Views: {talk.get('views', 0):,}\")\n",
    "            if talk.get('published_date'):\n",
    "                print(f\"   Date: {talk['published_date']}\")\n",
    "    else:\n",
    "        pprint(result)"
   ]
  },
  {
   "cell_type": "markdown",
   "id": "e44ef0a2",
   "metadata": {},
   "source": [
    "# Test Scenarios for find_similar_content Tool\n",
    "\n",
    "This notebook tests the `find_similar_content` tool with various realistic scenarios that demonstrate different ways users might want to find similar or related content in the MLOps events database.\n",
    "\n",
    "## Tool Overview\n",
    "The `find_similar_content` tool can:\n",
    "- Find content similar to a specific talk (by title or ID)  \n",
    "- Find content based on a natural language query\n",
    "- Support different similarity types (content, speaker, topic, all)\n",
    "- Apply various filters (date, category, event, speaker exclusions)\n",
    "- Control similarity thresholds and result limits"
   ]
  },
  {
   "cell_type": "markdown",
   "id": "b4ddcd56",
   "metadata": {},
   "source": [
    "### Test 1: Find Similar Content Using Natural Language Query - AI Agents\n",
    "\n",
    "**Scenario**: User wants to find talks about AI agents and autonomous systems  \n",
    "**Query**: \"Find content about AI agents, autonomous systems, and agent-based architectures\"\n",
    "\n",
    "This test uses a natural language query to find semantically similar content about AI agents. The tool will use embedding similarity to find talks that discuss similar concepts even if they don't use the exact same terminology."
   ]
  },
  {
   "cell_type": "code",
   "execution_count": 2,
   "id": "20045f1e",
   "metadata": {},
   "outputs": [
    {
     "name": "stdout",
     "output_type": "stream",
     "text": [
      "=== AI Agents Content Similarity ===\n",
      "{'similar_talks': [{'talk_id': 'f9b8beb1-45bb-560c-b75a-745ad5759cac', 'title': 'Understanding\\xa0 Where Generative AI fits into Business', 'speaker': 'Miguel Mendez, Anand Nimkar, Preeti Shivpuri', 'youtube_url': 'https://www.youtube.com/watch?v=1l2W8YlvVM4', 'category': 'Business and stakeholder alignment', 'views': 299, 'similarity_score': 0.446, 'similarity_type': 'content', 'similarity_reason': 'Similar content themes (score: 0.446)', 'matching_content': 'Understanding\\xa0 Where Generative AI fits into Business | Additional Questions: How dangerous is Generative AI? | Understand where Generative AI fits into business | Business and stakeholder alignment |...'}, {'talk_id': 'dacfab95-57e8-5086-bc22-74b86cf3fbb3', 'title': 'GenAI Investing in 2024', 'speaker': 'Margo Wu', 'youtube_url': 'https://www.youtube.com/watch?v=QBNX72rckbc', 'category': 'Future trends', 'views': 20, 'similarity_score': 0.444, 'similarity_type': 'content', 'similarity_reason': 'Similar content themes (score: 0.444)', 'matching_content': 'GenAI Investing in 2024 | An updated overview on the Gen Ai market landscape and investment activity, along with investor insights for fundraising. | An updated overview on the Gen Ai landscape and in...'}, {'talk_id': '640c9b59-8c66-5643-a922-f2d1f95c00b5', 'title': 'How Is GenAI Reshaping the Business?', 'speaker': 'Jaime Tatis', 'youtube_url': 'https://www.youtube.com/watch?v=M8QBzroN3WA', 'category': 'Business and stakeholder alignment', 'views': 120, 'similarity_score': 0.435, 'similarity_type': 'content', 'similarity_reason': 'Similar content themes (score: 0.435)', 'matching_content': 'How Is GenAI Reshaping the Business? | Generative AI offers transformative advantages across all sectors with unlimited possibilities. Audience will learn about AI application and how it enhances effi...'}, {'talk_id': 'f604c4a8-6a7f-5835-8ca8-92542dd2d710', 'title': 'AI Agents with Function Calling/Tool Use', 'speaker': 'Aniket Maurya', 'youtube_url': 'https://www.youtube.com/watch?v=46x7WbaSgqs', 'category': 'Model dev, training, arch.', 'views': 386, 'similarity_score': 0.434, 'similarity_type': 'content', 'similarity_reason': 'Similar content themes (score: 0.434)', 'matching_content': 'AI Agents with Function Calling/Tool Use | Learn about Agentic workflows with LLM tool use. Generate structured JSON output and execute external tools/functions. | By the end of this workshop you will...'}, {'talk_id': 'e39c7304-db05-518d-a3db-8c962214dc8f', 'title': 'Business Panel: GenAI Use-cases Across Industry Verticals. Early Trends and ROI', 'speaker': 'Surbhi Rathore, Kamelia Aryafar, Shingai Manjengwa, Manas Bhuyan, Laila Paszti', 'youtube_url': 'https://www.youtube.com/watch?v=r1FVentlxw8', 'category': 'Business and stakeholder alignment', 'views': 76, 'similarity_score': 0.42, 'similarity_type': 'content', 'similarity_reason': 'Similar content themes (score: 0.42)', 'matching_content': 'Business Panel: GenAI Use-cases Across Industry Verticals. Early Trends and ROI | Business and stakeholder alignment | GenAI use-cases, Industry verticals, ROI...'}], 'reference_info': {'query': 'AI agents', 'type': 'natural_language_query'}, 'similarity_analysis': \"Performed content-based semantic similarity, using query 'AI agents' as reference\", 'total_found': 5, 'filters_applied': [], 'success': True}\n"
     ]
    }
   ],
   "source": [
    "# Test 1: Natural Language Query - AI Agents\n",
    "result1 = find_similar_content.invoke({\n",
    "    \"reference_query\": \"AI agents\",\n",
    "    \"limit\": 5\n",
    "})\n",
    "print(\"=== AI Agents Content Similarity ===\")\n",
    "print(result1)"
   ]
  },
  {
   "cell_type": "markdown",
   "id": "053aaabb",
   "metadata": {},
   "source": [
    "### Test 2: Find Similar Content to a Specific Talk\n",
    "\n",
    "**Scenario**: User knows about a specific talk and wants to find similar presentations  \n",
    "**Reference Talk**: \"LLMs, from Playgrounds to Production-ready Pipelines\"  \n",
    "**Query**: \"Find talks similar to the LLMs production pipelines presentation\"\n",
    "\n",
    "This test demonstrates finding content similar to a specific talk by using the talk title as reference. The tool will analyze the talk's abstract and metadata to find semantically similar presentations."
   ]
  },
  {
   "cell_type": "code",
   "execution_count": 3,
   "id": "cf7e01b1",
   "metadata": {},
   "outputs": [
    {
     "name": "stdout",
     "output_type": "stream",
     "text": [
      "=== Similar to LLMs Production Pipeline Talk ===\n",
      "{'similar_talks': [{'talk_id': 'c9d53afb-d1aa-595c-9b5a-fb09b89c29b8', 'title': 'OpenFL: A Federated Learning Project to Power (and secure) Your Projects', 'speaker': 'Ezequiel Lanza', 'youtube_url': 'https://www.youtube.com/watch?v=IpOIQ994vko', 'category': 'Security and Privacy', 'views': 344, 'similarity_score': 0.368, 'similarity_type': 'content', 'similarity_reason': 'Similar content themes (score: 0.368)', 'matching_content': 'OpenFL: A Federated Learning Project to Power (and secure) Your Projects | OpenFL is a Python 3 framework for Federated Learning. Designed to be flexible, extensible and easily learnable tool for data...'}, {'talk_id': 'fc3efe32-e399-5dfc-9cd5-70912f545122', 'title': 'A Practical Guide to Efficient AI', 'speaker': 'Shelby Heinecke', 'youtube_url': 'https://www.youtube.com/watch?v=3HS0Cz_WFHM', 'category': 'Performance optimization and efficiency', 'views': 21, 'similarity_score': 0.363, 'similarity_type': 'content', 'similarity_reason': 'Similar content themes (score: 0.363)', 'matching_content': 'A Practical Guide to Efficient AI | In the past two years, we’ve witnessed a whirlwind of AI breakthroughs powered by extremely large and resource-demanding models. And as engineers and practitioners,...'}, {'talk_id': '9cc32db2-9f03-591a-88e4-1b0def8fdba0', 'title': 'How do you scale to billions of fine-tuned LLMs?', 'speaker': 'Jamie Dborin', 'youtube_url': 'https://www.youtube.com/watch?v=JGzas8cfrtw', 'category': 'Performance optimization and efficiency', 'views': 49, 'similarity_score': 0.363, 'similarity_type': 'content', 'similarity_reason': 'Similar content themes (score: 0.363)', 'matching_content': 'How do you scale to billions of fine-tuned LLMs? | Batched LORA Inference, a method gaining popularity that could be used to scale to billions of personalized, finetuned llms without paying the comput...'}, {'talk_id': '3df9ae95-3c92-55a2-8c2f-3513eb3030f5', 'title': 'Everything You Need to Know about Fine-Tuning', 'speaker': 'Maxime Labonne', 'youtube_url': 'https://www.youtube.com/watch?v=ijQ_8awMFBk', 'category': 'Model dev, training, arch.', 'views': 28, 'similarity_score': 0.359, 'similarity_type': 'content', 'similarity_reason': 'Similar content themes (score: 0.359)', 'matching_content': 'Everything You Need to Know about Fine-Tuning | Fine-tuning LLMs is a fundamental technique for companies to customize models for their specific needs. In this talk, we will introduce fine-tuning and ...'}, {'talk_id': 'ac6e8399-8e2a-55b9-b323-49ba6b1dcc46', 'title': 'Efficient Inference of Extremely Large Transformer Models', 'speaker': 'Bharat Venkitesh is a senior machine learning (ML) engineer at Cohere, focused on model compression, model efficiency, and inference optimizations. Previously, Bharat was a ML research engineer at Huawei, Noah’s Ark Lab, Montreal, where he worked on scaling up model training and model compression for natural language processing and speech recognition applications on edge devices. He has a master’s degree from University of Waterloo and a bachelor of technology degree from Indian Insitute of Technology Hyderabad. Venkitesh', 'youtube_url': 'https://www.youtube.com/watch?v=mzMiKydilZQ', 'category': 'Performance optimization and efficiency', 'views': 796, 'similarity_score': 0.358, 'similarity_type': 'content', 'similarity_reason': 'Similar content themes (score: 0.358)', 'matching_content': 'Efficient Inference of Extremely Large Transformer Models | The rise of transformer-based language models has seen a boom in model sizes, since these models’ performance scales extremely well with siz...'}, {'talk_id': '6b8d79ff-1417-57e1-9263-12d335800919', 'title': 'Optimized AI Deployment Platform', 'speaker': 'Vasilis Vagias', 'youtube_url': 'https://www.youtube.com/watch?v=pNgwVCrpUJU', 'category': 'Deployment and integration', 'views': 26, 'similarity_score': 0.35, 'similarity_type': 'content', 'similarity_reason': 'Similar content themes (score: 0.35)', 'matching_content': 'Optimized AI Deployment Platform | Showcasing CentMLs ability to streamline the process of deploying and optimizing LLMs in production. | Deployment and integration | CentML, LLM deployment, Optimizat...'}, {'talk_id': '358bbe51-b96d-5dc8-8846-4767b026e355', 'title': 'Chat with MLOpsWorld: Engineering an LLM Application', 'speaker': 'Charles Frye', 'youtube_url': 'https://www.youtube.com/watch?v=Ck7uBz88Q_w', 'category': 'Deployment and integration', 'views': 138, 'similarity_score': 0.347, 'similarity_type': 'content', 'similarity_reason': 'Similar content themes (score: 0.347)', 'matching_content': \"Chat with MLOpsWorld: Engineering an LLM Application | We've all seen the impressive demos of large language model-powered software, from Pull Request bots and flight booking assistants to HustleGPT. ...\"}, {'talk_id': '9b337878-a714-5f62-9acd-6c6e917eeccb', 'title': 'Multimodal LLMs for product taxonomy at Shopify', 'speaker': 'Kshetrajna Raghavan', 'youtube_url': 'https://www.youtube.com/watch?v=DNPLu3qNUN8', 'category': 'Model dev, training, arch.', 'views': 39, 'similarity_score': 0.343, 'similarity_type': 'content', 'similarity_reason': 'Similar content themes (score: 0.343)', 'matching_content': 'Multimodal LLMs for product taxonomy at Shopify | At Shopify we fine-tune and deploy large vision language models in production to make millions of predictions a day, and leverage different open sourc...'}, {'talk_id': 'b89c1e3c-3a71-53f7-b02c-96eff101b996', 'title': 'Training large language models: lessons from the trenches', 'speaker': 'Bandish Shah', 'youtube_url': 'https://www.youtube.com/watch?v=TTCyZjcGqf0', 'category': 'Model dev, training, arch.', 'views': 357, 'similarity_score': 0.342, 'similarity_type': 'content', 'similarity_reason': 'Similar content themes (score: 0.342)', 'matching_content': 'Training large language models: lessons from the trenches | Training large AI language models is a challenging task that requires a deep understanding of natural language processing, machine learning,...'}, {'talk_id': 'fa3022e2-846f-50bf-8593-41171317da4a', 'title': 'Leveraging Large Language Models to build Enterprise AI', 'speaker': 'Rohit Saha, Kyryl Truskovskyi, Angeline Yasodhara, Benjamin Ye', 'youtube_url': 'https://www.youtube.com/watch?v=BTYL-kLmhFE', 'category': 'Model dev, training, arch.', 'views': 145, 'similarity_score': 0.337, 'similarity_type': 'content', 'similarity_reason': 'Similar content themes (score: 0.337)', 'matching_content': 'Leveraging Large Language Models to build Enterprise AI | Generative AI is poised to disrupt multiple industries as enterprises rush to incorporate AI in their product offerings. The primary driver of...'}], 'reference_info': {'talk_id': 'cade4e0c-5922-57c4-9dba-98ea942da9de', 'title': 'LLMs, from Playgrounds to Production-ready Pipelines', 'speaker': 'Intae Rhyoo', 'category': 'Deployment and integration', 'youtube_url': 'https://www.youtube.com/watch?v=HWXPBJAhNlY', 'abstract': 'Despite the onset of commercially viable open-source Large Langauge Models, companies are struggling to leverage cutting-edge models like Llama2 and Mistral 7B for production-ready applications. Creating a simple demo page on a personal laptop and training, fine-tuning, and serving multi-billion parameter LLMs on HPC-scale infrastructure - with proprietary enterprise data - involves an entirely different engineering challenge. In this session, Intae, who co-founded and now leads product development at VESSL AI, will explore how companies can leverage MLOps infrastructure to go from a simple model playground to deploying enterprise-scale pipelines for LLMs.'}, 'similarity_analysis': \"Performed content-based semantic similarity, using 'LLMs, from Playgrounds to Production-ready Pipelines' as reference\", 'total_found': 10, 'filters_applied': [], 'success': True}\n"
     ]
    }
   ],
   "source": [
    "# Test 2: Similar Content to Specific Talk\n",
    "result2 = find_similar_content.invoke({\n",
    "    \"reference_talk_title\": \"LLMs, from Playgrounds to Production-ready Pipelines\"\n",
    "})\n",
    "print(\"=== Similar to LLMs Production Pipeline Talk ===\")\n",
    "print(result2)"
   ]
  },
  {
   "cell_type": "markdown",
   "id": "4279b3f0",
   "metadata": {},
   "source": [
    "### Test 3: Query with Date Filtering - Recent MLOps Trends\n",
    "\n",
    "**Scenario**: User wants to find recent talks about MLOps practices from 2023 onwards  \n",
    "**Query**: \"Find recent content about MLOps deployment and monitoring practices\"  \n",
    "**Filter**: Only talks published from 2023 onwards\n",
    "\n",
    "This test combines natural language semantic search with temporal filtering to focus on recent developments in MLOps practices."
   ]
  },
  {
   "cell_type": "code",
   "execution_count": 4,
   "id": "c773aee6",
   "metadata": {},
   "outputs": [
    {
     "name": "stdout",
     "output_type": "stream",
     "text": [
      "=== Recent MLOps Content (2023+) ===\n",
      "{'similar_talks': [{'talk_id': '9cc32db2-9f03-591a-88e4-1b0def8fdba0', 'title': 'How do you scale to billions of fine-tuned LLMs?', 'speaker': 'Jamie Dborin', 'youtube_url': 'https://www.youtube.com/watch?v=JGzas8cfrtw', 'category': 'Performance optimization and efficiency', 'views': 49, 'similarity_score': 0.504, 'similarity_type': 'content', 'similarity_reason': 'Similar content themes (score: 0.504)', 'matching_content': 'How do you scale to billions of fine-tuned LLMs? | Batched LORA Inference, a method gaining popularity that could be used to scale to billions of personalized, finetuned llms without paying the comput...'}, {'talk_id': '7da06749-38e6-59c8-b00d-e39b115894d0', 'title': 'Large Language Model Training and Serving at LinkedIn', 'speaker': 'Dre Olgiati', 'youtube_url': 'https://www.youtube.com/watch?v=yx_BKcAPoQs', 'category': 'Deployment and integration', 'views': 18, 'similarity_score': 0.502, 'similarity_type': 'content', 'similarity_reason': 'Similar content themes (score: 0.502)', 'matching_content': 'Large Language Model Training and Serving at LinkedIn | In this talk, Dre will describe some of the fundamental challenges and solutions faced by the LinkedIn team as they build innovative products ba...'}, {'talk_id': '75bbbc62-70b2-5b6a-bf11-0196d048aa8e', 'title': 'Scaling Advanced Analytics in the Worst Crisis in the Industry Area', 'speaker': 'Nicolás Venegas Oliva, Cristóbal Guzmán Guzman', 'youtube_url': 'https://www.youtube.com/watch?v=ICX2Bj9xhGI', 'category': 'Introduction to MLOps and GenAI', 'views': 76, 'similarity_score': 0.501, 'similarity_type': 'content', 'similarity_reason': 'Similar content themes (score: 0.501)', 'matching_content': 'Scaling Advanced Analytics in the Worst Crisis in the Industry Area | For data science teams looking to create real business value with AI – MLOps is not something that’s ‘nice to have’ – It’s a MUST ...'}, {'talk_id': 'e39c7304-db05-518d-a3db-8c962214dc8f', 'title': 'Business Panel: GenAI Use-cases Across Industry Verticals. Early Trends and ROI', 'speaker': 'Surbhi Rathore, Kamelia Aryafar, Shingai Manjengwa, Manas Bhuyan, Laila Paszti', 'youtube_url': 'https://www.youtube.com/watch?v=r1FVentlxw8', 'category': 'Business and stakeholder alignment', 'views': 76, 'similarity_score': 0.496, 'similarity_type': 'content', 'similarity_reason': 'Similar content themes (score: 0.496)', 'matching_content': 'Business Panel: GenAI Use-cases Across Industry Verticals. Early Trends and ROI | Business and stakeholder alignment | GenAI use-cases, Industry verticals, ROI...'}, {'talk_id': '7255dc0f-0f29-5aad-9a95-a7956c44673a', 'title': 'Panel: How companies can navigate and approach the new advancements in generative AI', 'speaker': 'Michel Dubois, Cameron Schuler, Alex LaPlante, Sara Hooker', 'youtube_url': 'https://www.youtube.com/watch?v=BzS74tByHpw', 'category': 'Business and stakeholder alignment', 'views': 33, 'similarity_score': 0.492, 'similarity_type': 'content', 'similarity_reason': 'Similar content themes (score: 0.492)', 'matching_content': 'Panel: How companies can navigate and approach the new advancements in generative AI | Business and stakeholder alignment | Generative AI, Business Strategy, Panel Discussion...'}, {'talk_id': 'c3c06d8d-deca-50f9-aa43-8cc6a25d76cf', 'title': 'Building an end-to-end MLOps Pipeline', 'speaker': 'Aurimas Griciūnas', 'youtube_url': 'https://www.youtube.com/watch?v=PvPDpO4IjOI', 'category': 'Deployment and integration', 'views': 89, 'similarity_score': 0.476, 'similarity_type': 'content', 'similarity_reason': 'Similar content themes (score: 0.476)', 'matching_content': 'Building an end-to-end MLOps Pipeline | The talk will be about MLOps and the lifecycle of ML projects. I will go through stages involved in the ML project lifecycle and some key highlights from each o...'}, {'talk_id': '5f2373fa-7ceb-584e-93ec-8a644c574355', 'title': 'LLMs from hallucinations to relevant responses', 'speaker': 'Eddie Mattia', 'youtube_url': 'https://www.youtube.com/watch?v=sm4QGPcXCuA', 'category': 'Introduction to MLOps and GenAI', 'views': 92, 'similarity_score': 0.474, 'similarity_type': 'content', 'similarity_reason': 'Similar content themes (score: 0.474)', 'matching_content': 'LLMs from hallucinations to relevant responses | Present a taxonomy of methods for controlling LLMs. Listeners will learn the broad strokes of how apps based on retrieval-augmented generation (RAG) an...'}, {'talk_id': '0c7e727c-214e-5fc1-954e-3aa19bd8a513', 'title': 'Deploying and Evaluating RAG pipelines with Lightning Studios', 'speaker': 'Rob Levy', 'youtube_url': 'https://www.youtube.com/watch?v=JO2mJ00rCkU', 'category': 'Deployment and integration', 'views': 93, 'similarity_score': 0.458, 'similarity_type': 'content', 'similarity_reason': 'Similar content themes (score: 0.458)', 'matching_content': 'Deploying and Evaluating RAG pipelines with Lightning Studios | Learn how to use Lightning Studios to quickly deploy AI agents and accelerate your evaluation of RAG pipelines. | Learn how to use Light...'}], 'reference_info': {'query': 'MLOps deployment monitoring practices production systems', 'type': 'natural_language_query'}, 'similarity_analysis': \"Performed content-based semantic similarity, using query 'MLOps deployment monitoring practices production systems' as reference\", 'total_found': 8, 'filters_applied': ['from 2023-01-01'], 'success': True}\n"
     ]
    }
   ],
   "source": [
    "# Test 3: Recent MLOps Content with Date Filter\n",
    "result3 = find_similar_content.invoke({\n",
    "    \"reference_query\": \"MLOps deployment monitoring practices production systems\",\n",
    "    \"date_from\": \"2023-01-01\",\n",
    "    \"limit\": 8\n",
    "})\n",
    "print(\"=== Recent MLOps Content (2023+) ===\")\n",
    "print(result3)"
   ]
  },
  {
   "cell_type": "markdown",
   "id": "5675ce3b",
   "metadata": {},
   "source": [
    "### Test 4: Find Similar Talks But Exclude Same Speaker\n",
    "\n",
    "**Scenario**: User likes a talk but wants diverse perspectives from different speakers  \n",
    "**Reference Talk**: \"Multimodal Agents You Can Deploy Anywhere\"  \n",
    "**Query**: \"Find similar talks but from different speakers for diverse viewpoints\"\n",
    "\n",
    "This test finds content similar to a reference talk but excludes talks by the same speaker to provide diverse perspectives on the topic."
   ]
  },
  {
   "cell_type": "code",
   "execution_count": 5,
   "id": "6cb432f6",
   "metadata": {},
   "outputs": [
    {
     "name": "stdout",
     "output_type": "stream",
     "text": [
      "=== Similar to Multimodal Agents (Different Speakers) ===\n",
      "{'similar_talks': [{'talk_id': '5ec5c69a-ad4d-5105-9a02-b9d147b0e812', 'title': 'Open-Ended and AI-Generating Algorithms in the Era of Foundation Models', 'speaker': 'Jeff Clune', 'youtube_url': 'https://www.youtube.com/watch?v=N8EqPWRp5cg', 'category': 'Future trends', 'views': 18, 'similarity_score': 0.405, 'similarity_type': 'content', 'similarity_reason': 'Similar content themes (score: 0.405)', 'matching_content': 'Open-Ended and AI-Generating Algorithms in the Era of Foundation Models | Open-Ended and AI-Generating Algorithms in the Era of Foundation Models\\n\\nFoundation models (e.g. large language models) create...'}, {'talk_id': '7da06749-38e6-59c8-b00d-e39b115894d0', 'title': 'Large Language Model Training and Serving at LinkedIn', 'speaker': 'Dre Olgiati', 'youtube_url': 'https://www.youtube.com/watch?v=yx_BKcAPoQs', 'category': 'Deployment and integration', 'views': 18, 'similarity_score': 0.403, 'similarity_type': 'content', 'similarity_reason': 'Similar content themes (score: 0.403)', 'matching_content': 'Large Language Model Training and Serving at LinkedIn | In this talk, Dre will describe some of the fundamental challenges and solutions faced by the LinkedIn team as they build innovative products ba...'}, {'talk_id': '7ea49301-9f90-5352-92e8-841856646ef0', 'title': 'Enabling GenAI Breakthroughs with Knowledge Graphs', 'speaker': 'Yizhi Yin, PhD', 'youtube_url': 'https://www.youtube.com/watch?v=4EW4QbMgYkI', 'category': 'Model dev, training, arch.', 'views': 54, 'similarity_score': 0.389, 'similarity_type': 'content', 'similarity_reason': 'Similar content themes (score: 0.389)', 'matching_content': 'Enabling GenAI Breakthroughs with Knowledge Graphs | Join us for an immersive workshop to explore integrating Large Language Models (LLMs) with knowledge graphs using Neo4j, a leader in graph database...'}, {'talk_id': '9b337878-a714-5f62-9acd-6c6e917eeccb', 'title': 'Multimodal LLMs for product taxonomy at Shopify', 'speaker': 'Kshetrajna Raghavan', 'youtube_url': 'https://www.youtube.com/watch?v=DNPLu3qNUN8', 'category': 'Model dev, training, arch.', 'views': 39, 'similarity_score': 0.388, 'similarity_type': 'content', 'similarity_reason': 'Similar content themes (score: 0.388)', 'matching_content': 'Multimodal LLMs for product taxonomy at Shopify | At Shopify we fine-tune and deploy large vision language models in production to make millions of predictions a day, and leverage different open sourc...'}, {'talk_id': 'f604c4a8-6a7f-5835-8ca8-92542dd2d710', 'title': 'AI Agents with Function Calling/Tool Use', 'speaker': 'Aniket Maurya', 'youtube_url': 'https://www.youtube.com/watch?v=46x7WbaSgqs', 'category': 'Model dev, training, arch.', 'views': 386, 'similarity_score': 0.385, 'similarity_type': 'content', 'similarity_reason': 'Similar content themes (score: 0.385)', 'matching_content': 'AI Agents with Function Calling/Tool Use | Learn about Agentic workflows with LLM tool use. Generate structured JSON output and execute external tools/functions. | By the end of this workshop you will...'}, {'talk_id': 'a150b954-a5b9-5a51-894a-c565c22d3876', 'title': 'Building Agentic and Multi-Agent Systems with LangGraph', 'speaker': 'Greg Loughnane, Chris Alexiuk', 'youtube_url': 'https://www.youtube.com/watch?v=5qsEIdUlBLY', 'category': 'Model dev, training, arch.', 'views': 52, 'similarity_score': 0.376, 'similarity_type': 'content', 'similarity_reason': 'Similar content themes (score: 0.376)', 'matching_content': 'Building Agentic and Multi-Agent Systems with LangGraph | 2024 is the year of agents, agentic RAG, and multi-agent systems! \\n\\nThis year, people and companies aim to build more complex LLM applications...'}], 'reference_info': {'talk_id': '14b1947c-c2ac-5777-8a3b-4593460325f7', 'title': 'Multimodal Agents You Can Deploy Anywhere', 'speaker': 'Michael Thriffiley', 'category': 'Introduction to MLOps and GenAI', 'youtube_url': 'https://www.youtube.com/watch?v=hU2mQTKYA80', 'abstract': 'Reka develops multimodal AI that can be deployed in the cloud, on premises, or on devices. Our frontier models are trained from scratch in an end-to-end fashion to understand text, images, video, and audio. They address the needs of both enterprises and consumers for building powerful applications such as video analysis, speech-to-speech translation, and multimodal document understanding. Join us as we share about how you can use Reka models and our agentic framework to build agents that can see, hear, and speak.'}, 'similarity_analysis': \"Performed content-based semantic similarity, using 'Multimodal Agents You Can Deploy Anywhere' as reference\", 'total_found': 6, 'filters_applied': ['excluding same speaker'], 'success': True}\n"
     ]
    }
   ],
   "source": [
    "# Test 4: Similar Content Excluding Same Speaker\n",
    "result4 = find_similar_content.invoke({\n",
    "    \"reference_talk_title\": \"Multimodal Agents You Can Deploy Anywhere\",\n",
    "    \"exclude_same_speaker\": True,\n",
    "    \"limit\": 6\n",
    "})\n",
    "print(\"=== Similar to Multimodal Agents (Different Speakers) ===\")\n",
    "print(result4)"
   ]
  },
  {
   "cell_type": "markdown",
   "id": "573a2a03",
   "metadata": {},
   "source": [
    "### Test 5: High Similarity Threshold - Only Highly Related Content\n",
    "\n",
    "**Scenario**: User wants to find only very closely related content, not loosely similar  \n",
    "**Query**: \"Vector databases and embeddings for RAG applications\"  \n",
    "**Threshold**: Minimum similarity of 0.8 (high threshold)\n",
    "\n",
    "This test uses a high similarity threshold to return only very closely related content, filtering out loosely similar results."
   ]
  },
  {
   "cell_type": "code",
   "execution_count": 6,
   "id": "12650d44",
   "metadata": {},
   "outputs": [
    {
     "name": "stdout",
     "output_type": "stream",
     "text": [
      "=== Highly Similar Content (min 0.8 similarity) ===\n",
      "{'similar_talks': [{'talk_id': 'dacfab95-57e8-5086-bc22-74b86cf3fbb3', 'title': 'GenAI Investing in 2024', 'speaker': 'Margo Wu', 'youtube_url': 'https://www.youtube.com/watch?v=QBNX72rckbc', 'category': 'Future trends', 'views': 20, 'similarity_score': 0.444, 'similarity_type': 'content', 'similarity_reason': 'Similar content themes (score: 0.444)', 'matching_content': 'GenAI Investing in 2024 | An updated overview on the Gen Ai market landscape and investment activity, along with investor insights for fundraising. | An updated overview on the Gen Ai landscape and in...'}, {'talk_id': 'f9b8beb1-45bb-560c-b75a-745ad5759cac', 'title': 'Understanding\\xa0 Where Generative AI fits into Business', 'speaker': 'Miguel Mendez, Anand Nimkar, Preeti Shivpuri', 'youtube_url': 'https://www.youtube.com/watch?v=1l2W8YlvVM4', 'category': 'Business and stakeholder alignment', 'views': 299, 'similarity_score': 0.443, 'similarity_type': 'content', 'similarity_reason': 'Similar content themes (score: 0.443)', 'matching_content': 'Understanding\\xa0 Where Generative AI fits into Business | Additional Questions: How dangerous is Generative AI? | Understand where Generative AI fits into business | Business and stakeholder alignment |...'}, {'talk_id': 'f604c4a8-6a7f-5835-8ca8-92542dd2d710', 'title': 'AI Agents with Function Calling/Tool Use', 'speaker': 'Aniket Maurya', 'youtube_url': 'https://www.youtube.com/watch?v=46x7WbaSgqs', 'category': 'Model dev, training, arch.', 'views': 386, 'similarity_score': 0.44, 'similarity_type': 'content', 'similarity_reason': 'Similar content themes (score: 0.44)', 'matching_content': 'AI Agents with Function Calling/Tool Use | Learn about Agentic workflows with LLM tool use. Generate structured JSON output and execute external tools/functions. | By the end of this workshop you will...'}, {'talk_id': '640c9b59-8c66-5643-a922-f2d1f95c00b5', 'title': 'How Is GenAI Reshaping the Business?', 'speaker': 'Jaime Tatis', 'youtube_url': 'https://www.youtube.com/watch?v=M8QBzroN3WA', 'category': 'Business and stakeholder alignment', 'views': 120, 'similarity_score': 0.433, 'similarity_type': 'content', 'similarity_reason': 'Similar content themes (score: 0.433)', 'matching_content': 'How Is GenAI Reshaping the Business? | Generative AI offers transformative advantages across all sectors with unlimited possibilities. Audience will learn about AI application and how it enhances effi...'}, {'talk_id': 'e39c7304-db05-518d-a3db-8c962214dc8f', 'title': 'Business Panel: GenAI Use-cases Across Industry Verticals. Early Trends and ROI', 'speaker': 'Surbhi Rathore, Kamelia Aryafar, Shingai Manjengwa, Manas Bhuyan, Laila Paszti', 'youtube_url': 'https://www.youtube.com/watch?v=r1FVentlxw8', 'category': 'Business and stakeholder alignment', 'views': 76, 'similarity_score': 0.417, 'similarity_type': 'content', 'similarity_reason': 'Similar content themes (score: 0.417)', 'matching_content': 'Business Panel: GenAI Use-cases Across Industry Verticals. Early Trends and ROI | Business and stakeholder alignment | GenAI use-cases, Industry verticals, ROI...'}], 'reference_info': {'query': 'AI Agents', 'type': 'natural_language_query'}, 'similarity_analysis': \"Performed content-based semantic similarity, using query 'AI Agents' as reference\", 'total_found': 5, 'filters_applied': ['minimum similarity 0.3'], 'success': True}\n"
     ]
    }
   ],
   "source": [
    "# Test 5: High Similarity Threshold\n",
    "result5 = find_similar_content.invoke({\n",
    "    \"reference_query\": \"AI Agents\",\n",
    "    \"min_similarity\": 0.3,\n",
    "    \"limit\": 5\n",
    "})\n",
    "print(\"=== Highly Similar Content (min 0.8 similarity) ===\")\n",
    "print(result5)"
   ]
  },
  {
   "cell_type": "markdown",
   "id": "01658893",
   "metadata": {},
   "source": [
    "### Test 6: Category-Specific Similarity Search\n",
    "\n",
    "**Scenario**: User wants similar talks but only within a specific category  \n",
    "**Query**: \"Find content about deployment strategies\"  \n",
    "**Filter**: Only talks in \"Deployment and integration\" category\n",
    "\n",
    "This test constrains the similarity search to a specific category, useful when users want to stay within a particular domain or track."
   ]
  },
  {
   "cell_type": "code",
   "execution_count": 7,
   "id": "911dad5d",
   "metadata": {},
   "outputs": [
    {
     "name": "stdout",
     "output_type": "stream",
     "text": [
      "=== Deployment Content (Category Filtered) ===\n",
      "{'similar_talks': [{'talk_id': '6b6b06f2-551b-5e81-8f5e-598c9b5e32d4', 'title': 'Deploying LLMs on Kubernetes environments', 'speaker': 'Arthur Vitui', 'youtube_url': 'https://www.youtube.com/watch?v=FoEWvU5UbsA', 'category': 'Deployment and integration', 'views': 46, 'similarity_score': 0.494, 'similarity_type': 'content', 'similarity_reason': 'Similar content themes (score: 0.494)', 'matching_content': 'Deploying LLMs on Kubernetes environments | Learn how to deploy LLMs on Kubernetes environments and use them to enhance your intelligent applications ecosystem with chatbots to talk to your documentat...'}, {'talk_id': '7da06749-38e6-59c8-b00d-e39b115894d0', 'title': 'Large Language Model Training and Serving at LinkedIn', 'speaker': 'Dre Olgiati', 'youtube_url': 'https://www.youtube.com/watch?v=yx_BKcAPoQs', 'category': 'Deployment and integration', 'views': 18, 'similarity_score': 0.49, 'similarity_type': 'content', 'similarity_reason': 'Similar content themes (score: 0.49)', 'matching_content': 'Large Language Model Training and Serving at LinkedIn | In this talk, Dre will describe some of the fundamental challenges and solutions faced by the LinkedIn team as they build innovative products ba...'}, {'talk_id': 'e2da4021-9d57-5dc4-8e2a-9f37948d1fd5', 'title': 'Serving GenAI Workload At Scale With LitServe', 'speaker': 'Aniket Maurya', 'youtube_url': 'https://www.youtube.com/watch?v=ClA0OwE4Zs0', 'category': 'Deployment and integration', 'views': 33, 'similarity_score': 0.472, 'similarity_type': 'content', 'similarity_reason': 'Similar content themes (score: 0.472)', 'matching_content': 'Serving GenAI Workload At Scale With LitServe | Learn about serving AI models with high throughput at scale. Dynamic batching, autoscaling and serve LLMs based complex workloads. | - Model serving in ...'}, {'talk_id': 'bd8d73ed-fd84-5d3f-8a47-cfa49ca3b60f', 'title': 'How NOT to get ML Models into production', 'speaker': 'Ryan Turner', 'youtube_url': 'https://www.youtube.com/watch?v=F6RxTgntCLs', 'category': 'Deployment and integration', 'views': 39, 'similarity_score': 0.471, 'similarity_type': 'content', 'similarity_reason': 'Similar content themes (score: 0.471)', 'matching_content': 'How NOT to get ML Models into production | Ryan Turner will be presenting on the various pitfalls of productionizing ML models. Common issues include dependency management, correct testing processes, ...'}, {'talk_id': '0c7e727c-214e-5fc1-954e-3aa19bd8a513', 'title': 'Deploying and Evaluating RAG pipelines with Lightning Studios', 'speaker': 'Rob Levy', 'youtube_url': 'https://www.youtube.com/watch?v=JO2mJ00rCkU', 'category': 'Deployment and integration', 'views': 93, 'similarity_score': 0.383, 'similarity_type': 'content', 'similarity_reason': 'Similar content themes (score: 0.383)', 'matching_content': 'Deploying and Evaluating RAG pipelines with Lightning Studios | Learn how to use Lightning Studios to quickly deploy AI agents and accelerate your evaluation of RAG pipelines. | Learn how to use Light...'}, {'talk_id': '6b8d79ff-1417-57e1-9263-12d335800919', 'title': 'Optimized AI Deployment Platform', 'speaker': 'Vasilis Vagias', 'youtube_url': 'https://www.youtube.com/watch?v=pNgwVCrpUJU', 'category': 'Deployment and integration', 'views': 26, 'similarity_score': 0.27, 'similarity_type': 'content', 'similarity_reason': 'Similar content themes (score: 0.27)', 'matching_content': 'Optimized AI Deployment Platform | Showcasing CentMLs ability to streamline the process of deploying and optimizing LLMs in production. | Deployment and integration | CentML, LLM deployment, Optimizat...'}], 'reference_info': {'query': 'deployment strategies production systems CI/CD pipelines', 'type': 'natural_language_query'}, 'similarity_analysis': \"Performed content-based semantic similarity, using query 'deployment strategies production systems CI/CD pipelines' as reference\", 'total_found': 6, 'filters_applied': [\"category 'Deployment and integration'\"], 'success': True}\n"
     ]
    }
   ],
   "source": [
    "# Test 6: Category-Specific Search\n",
    "result6 = find_similar_content.invoke({\n",
    "    \"reference_query\": \"deployment strategies production systems CI/CD pipelines\",\n",
    "    \"category\": \"Deployment and integration\"\n",
    "})\n",
    "print(\"=== Deployment Content (Category Filtered) ===\")\n",
    "print(result6)"
   ]
  },
  {
   "cell_type": "markdown",
   "id": "8ef1fa25",
   "metadata": {},
   "source": [
    "### Test 7: Event-Specific Similar Content \n",
    "\n",
    "**Scenario**: User wants to explore similar content but only from a specific event  \n",
    "**Query**: Find content about model optimization techniques  \n",
    "**Filter**: Only talks from \"MLOps & GenAI World 2024\" event\n",
    "\n",
    "This test demonstrates event-based filtering, useful when users want to see how a topic was covered within a particular conference or event."
   ]
  },
  {
   "cell_type": "code",
   "execution_count": 8,
   "id": "dd496935",
   "metadata": {},
   "outputs": [
    {
     "name": "stdout",
     "output_type": "stream",
     "text": [
      "=== Model Optimization (MLOps & GenAI World 2024) ===\n",
      "{'similar_talks': [{'talk_id': 'fc3efe32-e399-5dfc-9cd5-70912f545122', 'title': 'A Practical Guide to Efficient AI', 'speaker': 'Shelby Heinecke', 'youtube_url': 'https://www.youtube.com/watch?v=3HS0Cz_WFHM', 'category': 'Performance optimization and efficiency', 'views': 21, 'similarity_score': 0.482, 'similarity_type': 'content', 'similarity_reason': 'Similar content themes (score: 0.482)', 'matching_content': 'A Practical Guide to Efficient AI | In the past two years, we’ve witnessed a whirlwind of AI breakthroughs powered by extremely large and resource-demanding models. And as engineers and practitioners,...'}, {'talk_id': '7da06749-38e6-59c8-b00d-e39b115894d0', 'title': 'Large Language Model Training and Serving at LinkedIn', 'speaker': 'Dre Olgiati', 'youtube_url': 'https://www.youtube.com/watch?v=yx_BKcAPoQs', 'category': 'Deployment and integration', 'views': 18, 'similarity_score': 0.464, 'similarity_type': 'content', 'similarity_reason': 'Similar content themes (score: 0.464)', 'matching_content': 'Large Language Model Training and Serving at LinkedIn | In this talk, Dre will describe some of the fundamental challenges and solutions faced by the LinkedIn team as they build innovative products ba...'}, {'talk_id': 'df7ba3f6-88d0-5225-96e9-4d66d969b090', 'title': 'Panel: Achieving Long-Term AI Growth: Real Problem Solving vs. Trend-Based Solutions', 'speaker': 'Joe Reis, Jepson Taylor, Hugo Bowne-Anderson', 'youtube_url': 'https://www.youtube.com/watch?v=Swof2q5zTyI', 'category': 'Future trends', 'views': 13, 'similarity_score': 0.429, 'similarity_type': 'content', 'similarity_reason': 'Similar content themes (score: 0.429)', 'matching_content': 'Panel: Achieving Long-Term AI Growth: Real Problem Solving vs. Trend-Based Solutions | Future trends | Long-term growth, AI problem-solving, Trend-based solutions...'}, {'talk_id': '4e0c7f79-d08a-5eed-8500-eda5faa5ec2f', 'title': 'Panel: The Current Investment Landscape. Opportunities & Challenges in ML/Gen AI', 'speaker': 'George Matthew, Prerna Sharma, Mark Weber', 'youtube_url': 'https://www.youtube.com/watch?v=V5k4Mpbd0h4', 'category': 'Business and stakeholder alignment', 'views': 16, 'similarity_score': 0.418, 'similarity_type': 'content', 'similarity_reason': 'Similar content themes (score: 0.418)', 'matching_content': 'Panel: The Current Investment Landscape. Opportunities & Challenges in ML/Gen AI | Business and stakeholder alignment | Investment landscape, Opportunities, ML/GenAI...'}, {'talk_id': '6b8d79ff-1417-57e1-9263-12d335800919', 'title': 'Optimized AI Deployment Platform', 'speaker': 'Vasilis Vagias', 'youtube_url': 'https://www.youtube.com/watch?v=pNgwVCrpUJU', 'category': 'Deployment and integration', 'views': 26, 'similarity_score': 0.351, 'similarity_type': 'content', 'similarity_reason': 'Similar content themes (score: 0.351)', 'matching_content': 'Optimized AI Deployment Platform | Showcasing CentMLs ability to streamline the process of deploying and optimizing LLMs in production. | Deployment and integration | CentML, LLM deployment, Optimizat...'}], 'reference_info': {'query': 'model optimization performance tuning efficiency', 'type': 'natural_language_query'}, 'similarity_analysis': \"Performed content-based semantic similarity, using query 'model optimization performance tuning efficiency' as reference\", 'total_found': 5, 'filters_applied': [\"event 'MLOps & GenAI World 2024'\"], 'success': True}\n"
     ]
    }
   ],
   "source": [
    "# Test 7: Event-Specific Content\n",
    "result7 = find_similar_content.invoke({\n",
    "    \"reference_query\": \"model optimization performance tuning efficiency\",\n",
    "    \"event_name\": \"MLOps & GenAI World 2024\"\n",
    "})\n",
    "print(\"=== Model Optimization (MLOps & GenAI World 2024) ===\")\n",
    "print(result7)"
   ]
  },
  {
   "cell_type": "markdown",
   "id": "15baa141",
   "metadata": {},
   "source": [
    "### Test 8: Speaker-Based Similarity - Other Talks by Same Speaker\n",
    "\n",
    "**Scenario**: User likes a speaker's presentation style and wants to see their other talks  \n",
    "**Reference Talk**: Use a known talk title as reference  \n",
    "**Similarity Type**: \"speaker\" - focuses on finding other talks by the same speaker\n",
    "\n",
    "This test demonstrates speaker-based similarity where the tool finds other talks by the same speaker, useful for discovering a speaker's body of work."
   ]
  },
  {
   "cell_type": "code",
   "execution_count": 9,
   "id": "38ae1e90",
   "metadata": {},
   "outputs": [
    {
     "name": "stdout",
     "output_type": "stream",
     "text": [
      "=== Other Talks by Same Speaker ===\n",
      "{'similar_talks': [], 'reference_info': {'talk_id': 'da323948-1140-5d4c-89ed-2ed9ec6342ef', 'title': 'Looking into AI/ML from a Venture Capital lens', 'speaker': 'Yatong Li, Ryan Shannon, Vik Pant, PhD, Michelle Yu', 'category': 'Business and stakeholder alignment', 'youtube_url': 'https://www.youtube.com/watch?v=6X0sqZ7Metg', 'abstract': \"As a Toronto based Canadian VC focusing on global investments, Sixty Degree Capital invests in software that’s transforming industries, and the digital infrastructure that supports it. We have invested in lots of exciting portfolio companies including Arctic Wolf in the Cybersecurity space, DataGrail innovating on Data Privacy, Paperspace providing MLOps platform, MacroMeta solving Edge Computing bottlenecks, Pragma work in the Gaming Infrastructure space, Tact.ai and Radius Agent as Vertical SaaS products etc.). We believe AI/ML is a fundamental building block for next generation software, so Sixty Degree has spent lots of time to research, source, invest in the sub sectors. While we're a direct VC fund, we've allocated capital to become LPs of notable venture funds such as Lightspeed, a16z, NEA, Tiger,\\xa0NfX, Initialized, Foundation Capital and Upfront Ventures, which gives us a special information advantage on what are the top tier Silicon Valley VCs are investing.\"}, 'similarity_analysis': \"Performed speaker-based similarity, using 'Looking into AI/ML from a Venture Capital lens' as reference\", 'total_found': 0, 'filters_applied': [], 'success': True}\n"
     ]
    }
   ],
   "source": [
    "# Test 8: Speaker-Based Similarity\n",
    "result8 = find_similar_content.invoke({\n",
    "    \"reference_talk_title\": \"Looking into AI/ML from a Venture Capital lens\",\n",
    "    \"similarity_type\": \"speaker\"\n",
    "})\n",
    "print(\"=== Other Talks by Same Speaker ===\")\n",
    "print(result8)"
   ]
  },
  {
   "cell_type": "markdown",
   "id": "8ed4bf30",
   "metadata": {},
   "source": [
    "### Test 9: Comprehensive Similarity Analysis - All Types\n",
    "\n",
    "**Scenario**: User wants a comprehensive analysis including content, speaker, and topic similarity  \n",
    "**Reference Talk**: \"Deploying and Evaluating RAG pipelines with Lightning Studios\"  \n",
    "**Similarity Type**: \"all\" - combines multiple similarity approaches\n",
    "\n",
    "This test uses the comprehensive \"all\" similarity type that combines content-based, speaker-based, and topic-based similarity for a holistic recommendation."
   ]
  },
  {
   "cell_type": "code",
   "execution_count": 10,
   "id": "a063e3cc",
   "metadata": {},
   "outputs": [
    {
     "name": "stdout",
     "output_type": "stream",
     "text": [
      "=== Comprehensive Similarity Analysis ===\n",
      "{'similar_talks': [{'talk_id': '4b5ed1f3-6dc6-5b0f-9dfb-03f9e027f218', 'title': 'AI Tools Under Control: Keeping Your Agents Secure and Reliable', 'speaker': 'Bar Chen', 'youtube_url': 'https://www.youtube.com/watch?v=poqhv4hPTpA', 'category': 'Security and Privacy', 'views': 119, 'similarity_score': 0.408, 'similarity_type': 'content', 'similarity_reason': 'Similar content themes (score: 0.408)', 'matching_content': 'AI Tools Under Control: Keeping Your Agents Secure and Reliable | This session focuses on AI tools and the importance of keeping them secure and reliable. We’ll discuss the main security challenges th...'}, {'talk_id': '8a1b1e9a-6b99-5282-9032-61bf3da02ccb', 'title': 'Unraveling Long Context: Existing Methods, Challenges, and Future Directions', 'speaker': 'Bowen Yang', 'youtube_url': 'https://www.youtube.com/watch?v=jT0g7-GUMGY', 'category': 'Model dev, training, arch.', 'views': 35, 'similarity_score': 0.407, 'similarity_type': 'content', 'similarity_reason': 'Similar content themes (score: 0.407)', 'matching_content': 'Unraveling Long Context: Existing Methods, Challenges, and Future Directions | We will discuss how to scale transformer models to longer context, some of the challenges we are facing from modelling an...'}, {'talk_id': '3bbb4ce7-a93c-5ab7-a2e5-3cf6dc3b2bf3', 'title': 'The Role of Alternative Data in Investing', 'speaker': 'Serena McDonnell', 'youtube_url': 'https://www.youtube.com/watch?v=o0Pc-xOu_o8', 'category': 'Business and stakeholder alignment', 'views': 76, 'similarity_score': 0.407, 'similarity_type': 'content', 'similarity_reason': 'Similar content themes (score: 0.407)', 'matching_content': \"The Role of Alternative Data in Investing | Applying alternative data to quantitative equity strategies has high potential and unique challenges. In this talk, we will use Delphia's machine learning d...\"}, {'talk_id': 'b89c1e3c-3a71-53f7-b02c-96eff101b996', 'title': 'Training large language models: lessons from the trenches', 'speaker': 'Bandish Shah', 'youtube_url': 'https://www.youtube.com/watch?v=TTCyZjcGqf0', 'category': 'Model dev, training, arch.', 'views': 357, 'similarity_score': 0.407, 'similarity_type': 'content', 'similarity_reason': 'Similar content themes (score: 0.407)', 'matching_content': 'Training large language models: lessons from the trenches | Training large AI language models is a challenging task that requires a deep understanding of natural language processing, machine learning,...'}, {'talk_id': '02f5e445-8821-5cb1-bada-88586b0f9ac8', 'title': 'Leverage Kubernetes To Optimize the Utilization of Your AI Accelerators', 'speaker': 'Nathan Beach', 'youtube_url': 'https://www.youtube.com/watch?v=5jdZksHaJ_Q', 'category': 'Performance optimization and efficiency', 'views': 12, 'similarity_score': 0.406, 'similarity_type': 'content', 'similarity_reason': 'Similar content themes (score: 0.406)', 'matching_content': 'Leverage Kubernetes To Optimize the Utilization of Your AI Accelerators | When training or serving AI models, the cost of AI accelerators such as GPUs can dwarf the cost of all other compute resources...'}, {'talk_id': 'cfb5afe0-dd5b-5e7c-9812-e58a2507be68', 'title': 'Building a Multimodal RAG: A Step-by-Step Guide for AI/ML practitioners', 'speaker': 'Ivan Nardini, Holt Skinner', 'youtube_url': 'https://www.youtube.com/watch?v=CPpY4w4m5n0', 'category': 'Model dev, training, arch.', 'views': 27, 'similarity_score': 0.405, 'similarity_type': 'content', 'similarity_reason': 'Similar content themes (score: 0.405)', 'matching_content': 'Building a Multimodal RAG: A Step-by-Step Guide for AI/ML practitioners | Learn to build a multimodal Retrieval Augmented Generation (RAG) system that goes beyond text, incorporating images, video, an...'}, {'talk_id': '34e5925c-84df-58bd-b573-b0f1ab25a90b', 'title': 'Investigating the Evolution of Evaluation from Model Training to GenAI inference', 'speaker': 'Anish  Shah', 'youtube_url': 'https://www.youtube.com/watch?v=0pznirh2Ko4', 'category': 'Deployment and integration', 'views': 27, 'similarity_score': 0.404, 'similarity_type': 'content', 'similarity_reason': 'Similar content themes (score: 0.404)', 'matching_content': 'Investigating the Evolution of Evaluation from Model Training to GenAI inference | This session explores the evolution of evaluation techniques in machine learning, from traditional model training thr...'}, {'talk_id': 'f604c4a8-6a7f-5835-8ca8-92542dd2d710', 'title': 'AI Agents with Function Calling/Tool Use', 'speaker': 'Aniket Maurya', 'youtube_url': 'https://www.youtube.com/watch?v=46x7WbaSgqs', 'category': 'Model dev, training, arch.', 'views': 386, 'similarity_score': 0.402, 'similarity_type': 'content', 'similarity_reason': 'Similar content themes (score: 0.402)', 'matching_content': 'AI Agents with Function Calling/Tool Use | Learn about Agentic workflows with LLM tool use. Generate structured JSON output and execute external tools/functions. | By the end of this workshop you will...'}, {'talk_id': '640c9b59-8c66-5643-a922-f2d1f95c00b5', 'title': 'How Is GenAI Reshaping the Business?', 'speaker': 'Jaime Tatis', 'youtube_url': 'https://www.youtube.com/watch?v=M8QBzroN3WA', 'category': 'Business and stakeholder alignment', 'views': 120, 'similarity_score': 0.4, 'similarity_type': 'content', 'similarity_reason': 'Similar content themes (score: 0.4)', 'matching_content': 'How Is GenAI Reshaping the Business? | Generative AI offers transformative advantages across all sectors with unlimited possibilities. Audience will learn about AI application and how it enhances effi...'}, {'talk_id': '14b1947c-c2ac-5777-8a3b-4593460325f7', 'title': 'Multimodal Agents You Can Deploy Anywhere', 'speaker': 'Michael Thriffiley', 'youtube_url': 'https://www.youtube.com/watch?v=hU2mQTKYA80', 'category': 'Introduction to MLOps and GenAI', 'views': 25, 'similarity_score': 0.4, 'similarity_type': 'content', 'similarity_reason': 'Similar content themes (score: 0.4)', 'matching_content': 'Multimodal Agents You Can Deploy Anywhere | Reka develops multimodal AI that can be deployed in the cloud, on premises, or on devices. Our frontier models are trained from scratch in an end-to-end fas...'}, {'talk_id': 'a55d2cac-4def-52a7-9232-d1e28fea0aa7', 'title': 'Multi-Graph Multi-Agent systems - Determinism through Structured Representations', 'speaker': 'Tom Smoker', 'youtube_url': 'https://www.youtube.com/watch?v=wup9vlT03H8', 'category': 'Future trends', 'views': 20, 'similarity_score': 0.4, 'similarity_type': 'content', 'similarity_reason': 'Similar content themes (score: 0.4)', 'matching_content': 'Multi-Graph Multi-Agent systems - Determinism through Structured Representations | As multi-agent systems increasingly get adopted, the range of unstructured information that agents need to process in...'}, {'talk_id': '4e0c7f79-d08a-5eed-8500-eda5faa5ec2f', 'title': 'Panel: The Current Investment Landscape. Opportunities & Challenges in ML/Gen AI', 'speaker': 'George Matthew, Prerna Sharma, Mark Weber', 'youtube_url': 'https://www.youtube.com/watch?v=V5k4Mpbd0h4', 'category': 'Business and stakeholder alignment', 'views': 16, 'similarity_score': 0.397, 'similarity_type': 'content', 'similarity_reason': 'Similar content themes (score: 0.397)', 'matching_content': 'Panel: The Current Investment Landscape. Opportunities & Challenges in ML/Gen AI | Business and stakeholder alignment | Investment landscape, Opportunities, ML/GenAI...'}], 'reference_info': {'talk_id': '54df2d6c-51a1-5cf2-907d-52df2b14368f', 'title': 'Era of Multimodal AI & Reasoning', 'speaker': 'Nikita Namjoshi', 'category': 'Model dev, training, arch.', 'youtube_url': 'https://www.youtube.com/watch?v=EmAVZvsopYw', 'abstract': 'The future of AI is multimodal. In this session, you will learn about a variety of multimodal use cases. You will also explore the importance of large context windows for effective reasoning over multi-modalities and learn how caching mechanisms can enhance performance.'}, 'similarity_analysis': \"Performed comprehensive similarity analysis, using 'Era of Multimodal AI & Reasoning' as reference\", 'total_found': 12, 'filters_applied': [], 'success': True}\n"
     ]
    }
   ],
   "source": [
    "# Test 9: Comprehensive Similarity Analysis\n",
    "result9 = find_similar_content.invoke({\n",
    "    \"reference_talk_title\": \"Era of Multimodal AI & Reasoning\",\n",
    "    \"similarity_type\": \"all\",\n",
    "    \"limit\": 12\n",
    "})\n",
    "print(\"=== Comprehensive Similarity Analysis ===\")\n",
    "print(result9)"
   ]
  },
  {
   "cell_type": "markdown",
   "id": "fc85d9c2",
   "metadata": {},
   "source": [
    "### Test 10: Combined Filters - Date Range + Category + Exclusions\n",
    "\n",
    "**Scenario**: Complex search with multiple constraints  \n",
    "**Query**: \"Data science and machine learning workflows\"  \n",
    "**Filters**: 2022-2023 timeframe, MLOps category, exclude same speaker, minimum similarity\n",
    "\n",
    "This test demonstrates the tool's ability to handle multiple constraints simultaneously for highly targeted similarity searches."
   ]
  },
  {
   "cell_type": "code",
   "execution_count": 14,
   "id": "fc6720c7",
   "metadata": {},
   "outputs": [
    {
     "name": "stdout",
     "output_type": "stream",
     "text": [
      "=== Complex Multi-Filter Search ===\n",
      "{'similar_talks': [{'talk_id': '0c7e727c-214e-5fc1-954e-3aa19bd8a513', 'title': 'Deploying and Evaluating RAG pipelines with Lightning Studios', 'speaker': 'Rob Levy', 'youtube_url': 'https://www.youtube.com/watch?v=JO2mJ00rCkU', 'category': 'Deployment and integration', 'views': 93, 'similarity_score': 0.442, 'similarity_type': 'content', 'similarity_reason': 'Similar content themes (score: 0.442)', 'matching_content': 'Deploying and Evaluating RAG pipelines with Lightning Studios | Learn how to use Lightning Studios to quickly deploy AI agents and accelerate your evaluation of RAG pipelines. | Learn how to use Light...'}, {'talk_id': 'e2da4021-9d57-5dc4-8e2a-9f37948d1fd5', 'title': 'Serving GenAI Workload At Scale With LitServe', 'speaker': 'Aniket Maurya', 'youtube_url': 'https://www.youtube.com/watch?v=ClA0OwE4Zs0', 'category': 'Deployment and integration', 'views': 33, 'similarity_score': 0.437, 'similarity_type': 'content', 'similarity_reason': 'Similar content themes (score: 0.437)', 'matching_content': 'Serving GenAI Workload At Scale With LitServe | Learn about serving AI models with high throughput at scale. Dynamic batching, autoscaling and serve LLMs based complex workloads. | - Model serving in ...'}, {'talk_id': '7da06749-38e6-59c8-b00d-e39b115894d0', 'title': 'Large Language Model Training and Serving at LinkedIn', 'speaker': 'Dre Olgiati', 'youtube_url': 'https://www.youtube.com/watch?v=yx_BKcAPoQs', 'category': 'Deployment and integration', 'views': 18, 'similarity_score': 0.434, 'similarity_type': 'content', 'similarity_reason': 'Similar content themes (score: 0.434)', 'matching_content': 'Large Language Model Training and Serving at LinkedIn | In this talk, Dre will describe some of the fundamental challenges and solutions faced by the LinkedIn team as they build innovative products ba...'}, {'talk_id': '6b8d79ff-1417-57e1-9263-12d335800919', 'title': 'Optimized AI Deployment Platform', 'speaker': 'Vasilis Vagias', 'youtube_url': 'https://www.youtube.com/watch?v=pNgwVCrpUJU', 'category': 'Deployment and integration', 'views': 26, 'similarity_score': 0.333, 'similarity_type': 'content', 'similarity_reason': 'Similar content themes (score: 0.333)', 'matching_content': 'Optimized AI Deployment Platform | Showcasing CentMLs ability to streamline the process of deploying and optimizing LLMs in production. | Deployment and integration | CentML, LLM deployment, Optimizat...'}], 'reference_info': {'query': 'LLMs in Production Pipelines', 'type': 'natural_language_query'}, 'similarity_analysis': \"Performed content-based semantic similarity, using query 'LLMs in Production Pipelines' as reference\", 'total_found': 4, 'filters_applied': ['from 2024-01-01', 'until 2024-12-31', \"category 'Deployment and integration'\", 'minimum similarity 0.3'], 'success': True}\n"
     ]
    }
   ],
   "source": [
    "# Test 10: Complex Multi-Filter Search\n",
    "result10 = find_similar_content.invoke({\n",
    "    \"reference_query\": \"LLMs in Production Pipelines\",\n",
    "    \"date_from\": \"2024-01-01\",\n",
    "    \"date_to\": \"2024-12-31\",\n",
    "    \"category\": \"Deployment and integration\",\n",
    "    \"min_similarity\": 0.3,\n",
    "    \"limit\": 7\n",
    "})\n",
    "print(\"=== Complex Multi-Filter Search ===\")\n",
    "print(result10)"
   ]
  },
  {
   "cell_type": "markdown",
   "id": "47c6b615",
   "metadata": {},
   "source": [
    "### Test 11: Cloud and Infrastructure Focus\n",
    "\n",
    "**Scenario**: User wants to explore cloud computing and infrastructure content  \n",
    "**Query**: \"Cloud infrastructure, Kubernetes, containerization, and scalability\"  \n",
    "**Approach**: Semantic search focused on cloud technologies\n",
    "\n",
    "This test targets cloud and infrastructure-related content using semantic similarity to find talks about cloud platforms, orchestration, and scalability."
   ]
  },
  {
   "cell_type": "code",
   "execution_count": 12,
   "id": "698a9991",
   "metadata": {},
   "outputs": [
    {
     "name": "stdout",
     "output_type": "stream",
     "text": [
      "=== Cloud and Infrastructure Content ===\n",
      "{'similar_talks': [{'talk_id': '7da06749-38e6-59c8-b00d-e39b115894d0', 'title': 'Large Language Model Training and Serving at LinkedIn', 'speaker': 'Dre Olgiati', 'youtube_url': 'https://www.youtube.com/watch?v=yx_BKcAPoQs', 'category': 'Deployment and integration', 'views': 18, 'similarity_score': 0.463, 'similarity_type': 'content', 'similarity_reason': 'Similar content themes (score: 0.463)', 'matching_content': 'Large Language Model Training and Serving at LinkedIn | In this talk, Dre will describe some of the fundamental challenges and solutions faced by the LinkedIn team as they build innovative products ba...'}, {'talk_id': '02f5e445-8821-5cb1-bada-88586b0f9ac8', 'title': 'Leverage Kubernetes To Optimize the Utilization of Your AI Accelerators', 'speaker': 'Nathan Beach', 'youtube_url': 'https://www.youtube.com/watch?v=5jdZksHaJ_Q', 'category': 'Performance optimization and efficiency', 'views': 12, 'similarity_score': 0.462, 'similarity_type': 'content', 'similarity_reason': 'Similar content themes (score: 0.462)', 'matching_content': 'Leverage Kubernetes To Optimize the Utilization of Your AI Accelerators | When training or serving AI models, the cost of AI accelerators such as GPUs can dwarf the cost of all other compute resources...'}, {'talk_id': '640c9b59-8c66-5643-a922-f2d1f95c00b5', 'title': 'How Is GenAI Reshaping the Business?', 'speaker': 'Jaime Tatis', 'youtube_url': 'https://www.youtube.com/watch?v=M8QBzroN3WA', 'category': 'Business and stakeholder alignment', 'views': 120, 'similarity_score': 0.449, 'similarity_type': 'content', 'similarity_reason': 'Similar content themes (score: 0.449)', 'matching_content': 'How Is GenAI Reshaping the Business? | Generative AI offers transformative advantages across all sectors with unlimited possibilities. Audience will learn about AI application and how it enhances effi...'}, {'talk_id': 'ef91f9a4-8556-5a66-bf87-445f8dca40fb', 'title': 'Creating an ML model as a business user', 'speaker': 'Kevin Laven, Alex Gobolos', 'youtube_url': 'https://www.youtube.com/watch?v=pU9-XV0DCUI', 'category': 'Business and stakeholder alignment', 'views': 58, 'similarity_score': 0.449, 'similarity_type': 'content', 'similarity_reason': 'Similar content themes (score: 0.449)', 'matching_content': 'Creating an ML model as a business user | Opportunity for business users and executives to be exposed to the following topics: How to validate use cases, Approaches to building models, Business case f...'}, {'talk_id': '0189dc07-e081-587d-bc59-055c29a4635e', 'title': 'Compute Strategies for Generative AI', 'speaker': 'Avin Regmi', 'youtube_url': 'https://www.youtube.com/watch?v=0OEcXIL-piE', 'category': 'Performance optimization and efficiency', 'views': 45, 'similarity_score': 0.439, 'similarity_type': 'content', 'similarity_reason': 'Similar content themes (score: 0.439)', 'matching_content': \"Compute Strategies for Generative AI | Distributing computing efforts strategically to maximize resource utilization and minimize wastage. Investing in Spotify's Hendrix ML Platform, which streamlines...\"}, {'talk_id': '52d0d038-55a0-584c-8649-1e54354af927', 'title': 'Challenges and Learnings of Machine Learning at scale', 'speaker': 'Raheleh Givehchi, Hicham Benzamane', 'youtube_url': 'https://www.youtube.com/watch?v=QDoH3HLcPhY', 'category': 'Model dev, training, arch.', 'views': 155, 'similarity_score': 0.439, 'similarity_type': 'content', 'similarity_reason': 'Similar content themes (score: 0.439)', 'matching_content': 'Challenges and Learnings of Machine Learning at scale | How to train millions of models while keeping cost very low and predict on daily basis with the highest performance. | - Real world Data optimiz...'}, {'talk_id': '7255dc0f-0f29-5aad-9a95-a7956c44673a', 'title': 'Panel: How companies can navigate and approach the new advancements in generative AI', 'speaker': 'Michel Dubois, Cameron Schuler, Alex LaPlante, Sara Hooker', 'youtube_url': 'https://www.youtube.com/watch?v=BzS74tByHpw', 'category': 'Business and stakeholder alignment', 'views': 33, 'similarity_score': 0.435, 'similarity_type': 'content', 'similarity_reason': 'Similar content themes (score: 0.435)', 'matching_content': 'Panel: How companies can navigate and approach the new advancements in generative AI | Business and stakeholder alignment | Generative AI, Business Strategy, Panel Discussion...'}, {'talk_id': '9cc32db2-9f03-591a-88e4-1b0def8fdba0', 'title': 'How do you scale to billions of fine-tuned LLMs?', 'speaker': 'Jamie Dborin', 'youtube_url': 'https://www.youtube.com/watch?v=JGzas8cfrtw', 'category': 'Performance optimization and efficiency', 'views': 49, 'similarity_score': 0.433, 'similarity_type': 'content', 'similarity_reason': 'Similar content themes (score: 0.433)', 'matching_content': 'How do you scale to billions of fine-tuned LLMs? | Batched LORA Inference, a method gaining popularity that could be used to scale to billions of personalized, finetuned llms without paying the comput...'}], 'reference_info': {'query': 'cloud infrastructure Kubernetes containerization Docker scalability microservices', 'type': 'natural_language_query'}, 'similarity_analysis': \"Performed content-based semantic similarity, using query 'cloud infrastructure Kubernetes containerization Docker scalability microservices' as reference\", 'total_found': 8, 'filters_applied': [], 'success': True}\n"
     ]
    }
   ],
   "source": [
    "# Test 11: Cloud and Infrastructure Content\n",
    "result11 = find_similar_content.invoke({\n",
    "    \"reference_query\": \"cloud infrastructure Kubernetes containerization Docker scalability microservices\",\n",
    "    \"limit\": 8\n",
    "})\n",
    "print(\"=== Cloud and Infrastructure Content ===\")\n",
    "print(result11)"
   ]
  },
  {
   "cell_type": "markdown",
   "id": "e8bd84cf",
   "metadata": {},
   "source": [
    "### Test 12: Error Handling - Non-Existent Talk Reference\n",
    "\n",
    "**Scenario**: Test error handling when referencing a talk that doesn't exist  \n",
    "**Reference Talk**: \"This Talk Does Not Exist in Database\"  \n",
    "**Expected**: Graceful error handling with informative message\n",
    "\n",
    "This test validates the tool's error handling capabilities when provided with invalid references, ensuring robust behavior in edge cases."
   ]
  },
  {
   "cell_type": "code",
   "execution_count": 13,
   "id": "f5d86931",
   "metadata": {},
   "outputs": [
    {
     "name": "stdout",
     "output_type": "stream",
     "text": [
      "=== Error Handling Test ===\n",
      "{'similar_talks': [], 'reference_info': {}, 'similarity_analysis': 'Similarity analysis failed', 'total_found': 0, 'filters_applied': [], 'success': False, 'error': '0'}\n"
     ]
    }
   ],
   "source": [
    "# Test 12: Error Handling Test\n",
    "result12 = find_similar_content.invoke({\n",
    "    \"reference_talk_title\": \"This Talk Does Not Exist in Database\"\n",
    "})\n",
    "print(\"=== Error Handling Test ===\")\n",
    "print(result12)"
   ]
  }
 ],
 "metadata": {
  "kernelspec": {
   "display_name": ".venv",
   "language": "python",
   "name": "python3"
  },
  "language_info": {
   "codemirror_mode": {
    "name": "ipython",
    "version": 3
   },
   "file_extension": ".py",
   "mimetype": "text/x-python",
   "name": "python",
   "nbconvert_exporter": "python",
   "pygments_lexer": "ipython3",
   "version": "3.13.7"
  }
 },
 "nbformat": 4,
 "nbformat_minor": 5
}
